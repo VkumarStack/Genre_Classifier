{
 "cells": [
  {
   "cell_type": "code",
   "execution_count": 5,
   "metadata": {},
   "outputs": [],
   "source": [
    "import os\n",
    "import numpy as np\n",
    "import pandas as pd\n",
    "from sklearn.model_selection import train_test_split, GridSearchCV\n",
    "from sklearn.pipeline import Pipeline\n",
    "from sklearn.preprocessing import StandardScaler\n",
    "from sklearn.neighbors import KNeighborsClassifier\n",
    "from sklearn.metrics import classification_report, accuracy_score\n",
    "\n",
    "# Load datasets\n",
    "df_songs = pd.read_csv('../data/features_30_sec.csv')\n",
    "df_segments = pd.read_csv('../data/features_3_sec.csv')\n",
    "\n",
    "# Prepare training and testing data\n",
    "X = df_songs\n",
    "y = df_songs['label']\n",
    "\n",
    "X_train_songs, X_test_songs, y_train_songs, y_test_songs = train_test_split(X, y, test_size=0.2, random_state=42, stratify=y)\n",
    "\n",
    "train_filenames = X_train_songs['filename']\n",
    "test_filenames = X_test_songs['filename']\n",
    "\n",
    "train_mask = (df_segments['filename'].str.extract(r'(.*\\.\\d+)\\.\\d+\\.wav')[0] + '.wav').isin(train_filenames)\n",
    "test_mask = (df_segments['filename'].str.extract(r'(.*\\.\\d+)\\.\\d+\\.wav')[0] + '.wav').isin(test_filenames)\n",
    "\n",
    "df_train_segments = df_segments[train_mask].reset_index(drop=True)\n",
    "df_test_segments = df_segments[test_mask].reset_index(drop=True)\n",
    "\n",
    "X_train_segments = df_train_segments.drop(columns=['filename', 'length', 'label'])\n",
    "y_train_segments = df_train_segments['label']\n"
   ]
  },
  {
   "cell_type": "code",
   "execution_count": 6,
   "metadata": {},
   "outputs": [],
   "source": [
    "pipeline = Pipeline([\n",
    "    ('scaler', StandardScaler()),\n",
    "    ('knn', KNeighborsClassifier())\n",
    "])"
   ]
  },
  {
   "cell_type": "code",
   "execution_count": 7,
   "metadata": {},
   "outputs": [
    {
     "name": "stdout",
     "output_type": "stream",
     "text": [
      "Best parameters found: {'knn__n_neighbors': 9}\n",
      "Best cross-validation accuracy: 0.5035043804755945\n"
     ]
    }
   ],
   "source": [
    "# Define parameter grid for GridSearchCV\n",
    "param_grid = {\n",
    "    'knn__n_neighbors': [1, 3, 5, 7, 9, 11, 13, 15]\n",
    "}\n",
    "\n",
    "# Perform Grid Search with Cross-Validation\n",
    "grid_search = GridSearchCV(pipeline, param_grid, cv=5, n_jobs=-1, scoring='accuracy')\n",
    "grid_search.fit(X_train_segments, y_train_segments)\n",
    "\n",
    "# Print best parameters and best score\n",
    "print(f\"Best parameters found: {grid_search.best_params_}\")\n",
    "print(f\"Best cross-validation accuracy: {grid_search.best_score_}\")"
   ]
  },
  {
   "cell_type": "code",
   "execution_count": 8,
   "metadata": {},
   "outputs": [
    {
     "name": "stdout",
     "output_type": "stream",
     "text": [
      "Classification Report:\n",
      "              precision    recall  f1-score   support\n",
      "\n",
      "       blues       0.88      0.70      0.78        20\n",
      "   classical       0.87      1.00      0.93        20\n",
      "     country       0.72      0.90      0.80        20\n",
      "       disco       0.62      0.75      0.68        20\n",
      "      hiphop       0.68      0.65      0.67        20\n",
      "        jazz       0.83      0.75      0.79        20\n",
      "       metal       0.88      0.75      0.81        20\n",
      "         pop       0.81      0.85      0.83        20\n",
      "      reggae       0.63      0.60      0.62        20\n",
      "        rock       0.72      0.65      0.68        20\n",
      "\n",
      "    accuracy                           0.76       200\n",
      "   macro avg       0.77      0.76      0.76       200\n",
      "weighted avg       0.77      0.76      0.76       200\n",
      "\n",
      "Accuracy Score:\n",
      "0.76\n"
     ]
    }
   ],
   "source": [
    "# Use the best estimator to predict on test set\n",
    "best_clf = grid_search.best_estimator_\n",
    "X_test_segments = df_test_segments.drop(columns=['filename', 'length', 'label'])\n",
    "y_test_segments = df_test_segments['label']\n",
    "\n",
    "y_pred = best_clf.predict(X_test_segments)\n",
    "\n",
    "# Define majority vote function\n",
    "def majority_vote(predictions):\n",
    "    return predictions.mode().iloc[0]\n",
    "\n",
    "df_test_segments['predicted_label'] = y_pred\n",
    "\n",
    "df_test_segments['song'] = df_test_segments['filename'].str.extract(r'(.*\\.\\d{5})')[0] + '.wav'\n",
    "song_predictions = df_test_segments.groupby('song')['predicted_label'].apply(majority_vote)\n",
    "\n",
    "song_true_labels = X_test_songs.set_index('filename').loc[song_predictions.index, 'label']\n",
    "song_pred_labels = song_predictions\n",
    "\n",
    "# Print classification report and accuracy score\n",
    "print(\"Classification Report:\")\n",
    "print(classification_report(song_true_labels, song_pred_labels))\n",
    "\n",
    "print(\"Accuracy Score:\")\n",
    "print(accuracy_score(song_true_labels, song_pred_labels))"
   ]
  }
 ],
 "metadata": {
  "kernelspec": {
   "display_name": "myenv",
   "language": "python",
   "name": "myenv"
  },
  "language_info": {
   "codemirror_mode": {
    "name": "ipython",
    "version": 3
   },
   "file_extension": ".py",
   "mimetype": "text/x-python",
   "name": "python",
   "nbconvert_exporter": "python",
   "pygments_lexer": "ipython3",
   "version": "3.10.14"
  }
 },
 "nbformat": 4,
 "nbformat_minor": 2
}
