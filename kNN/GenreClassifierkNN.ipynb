{
 "cells": [
  {
   "cell_type": "code",
   "execution_count": 1,
   "metadata": {},
   "outputs": [],
   "source": [
    "import os\n",
    "import numpy as np\n",
    "import pandas as pd\n",
    "from sklearn.model_selection import train_test_split, GridSearchCV\n",
    "from sklearn.pipeline import Pipeline\n",
    "from sklearn.preprocessing import StandardScaler\n",
    "from sklearn.linear_model import LogisticRegression\n",
    "from sklearn.metrics import classification_report, accuracy_score\n",
    "\n",
    "# Load datasets\n",
    "df_songs = pd.read_csv('../data/features_30_sec.csv')\n",
    "df_segments = pd.read_csv('../data/features_3_sec.csv')\n",
    "\n",
    "# Prepare training and testing data\n",
    "X = df_songs\n",
    "y = df_songs['label']\n",
    "\n",
    "X_train_songs, X_test_songs, y_train_songs, y_test_songs = train_test_split(X, y, test_size=0.2, random_state=42, stratify=y)\n",
    "\n",
    "train_filenames = X_train_songs['filename']\n",
    "test_filenames = X_test_songs['filename']\n",
    "\n",
    "train_mask = (df_segments['filename'].str.extract(r'(.*\\.\\d+)\\.\\d+\\.wav')[0] + '.wav').isin(train_filenames)\n",
    "test_mask = (df_segments['filename'].str.extract(r'(.*\\.\\d+)\\.\\d+\\.wav')[0] + '.wav').isin(test_filenames)\n",
    "\n",
    "df_train_segments = df_segments[train_mask].reset_index(drop=True)\n",
    "df_test_segments = df_segments[test_mask].reset_index(drop=True)\n",
    "\n",
    "X_train_segments = df_train_segments.drop(columns=['filename', 'length', 'label'])\n",
    "y_train_segments = df_train_segments['label']"
   ]
  },
  {
   "cell_type": "code",
   "execution_count": 2,
   "metadata": {},
   "outputs": [],
   "source": [
    "train_mask = (df_segments['filename'].str.extract(r'(.*\\.\\d+)\\.\\d+\\.wav')[0]+ '.wav').isin(train_filenames)\n",
    "test_mask = (df_segments['filename'].str.extract(r'(.*\\.\\d+)\\.\\d+\\.wav')[0]+ '.wav').isin(test_filenames)\n",
    "df_train_segments = df_segments[train_mask].reset_index(drop=True)\n",
    "df_test_segments = df_segments[test_mask].reset_index(drop=True)"
   ]
  },
  {
   "cell_type": "code",
   "execution_count": 3,
   "metadata": {},
   "outputs": [],
   "source": [
    "X_train_segments = df_train_segments.drop(columns=['filename', 'length', 'label'])\n",
    "y_train_segments = df_train_segments['label']"
   ]
  },
  {
   "cell_type": "code",
   "execution_count": 4,
   "metadata": {},
   "outputs": [],
   "source": [
    "pipeline = Pipeline([\n",
    "    ('scaler', StandardScaler()),\n",
    "    ('logreg', LogisticRegression(max_iter=10000))\n",
    "])"
   ]
  },
  {
   "cell_type": "code",
   "execution_count": 5,
   "metadata": {},
   "outputs": [
    {
     "name": "stdout",
     "output_type": "stream",
     "text": [
      "Best parameters found: {'logreg__C': 1, 'logreg__solver': 'lbfgs'}\n",
      "Best cross-validation accuracy: 0.5553191489361702\n"
     ]
    }
   ],
   "source": [
    "# Define parameter grid for GridSearchCV\n",
    "param_grid = {\n",
    "    'logreg__C': [0.1, 1, 10, 100],\n",
    "    'logreg__solver': ['liblinear', 'lbfgs', 'newton-cg']\n",
    "}\n",
    "\n",
    "# Perform Grid Search with Cross-Validation\n",
    "grid_search = GridSearchCV(pipeline, param_grid, cv=5, n_jobs=-1, scoring='accuracy')\n",
    "grid_search.fit(X_train_segments, y_train_segments)\n",
    "\n",
    "# Print best parameters and best score\n",
    "print(f\"Best parameters found: {grid_search.best_params_}\")\n",
    "print(f\"Best cross-validation accuracy: {grid_search.best_score_}\")"
   ]
  },
  {
   "cell_type": "code",
   "execution_count": 6,
   "metadata": {},
   "outputs": [
    {
     "name": "stdout",
     "output_type": "stream",
     "text": [
      "Classification Report:\n",
      "              precision    recall  f1-score   support\n",
      "\n",
      "       blues       0.70      0.80      0.74        20\n",
      "   classical       0.91      1.00      0.95        20\n",
      "     country       0.70      0.70      0.70        20\n",
      "       disco       0.92      0.55      0.69        20\n",
      "      hiphop       0.64      0.70      0.67        20\n",
      "        jazz       0.82      0.90      0.86        20\n",
      "       metal       0.90      0.90      0.90        20\n",
      "         pop       0.74      0.85      0.79        20\n",
      "      reggae       0.65      0.75      0.70        20\n",
      "        rock       0.69      0.45      0.55        20\n",
      "\n",
      "    accuracy                           0.76       200\n",
      "   macro avg       0.77      0.76      0.75       200\n",
      "weighted avg       0.77      0.76      0.75       200\n",
      "\n",
      "Accuracy Score:\n",
      "0.76\n"
     ]
    }
   ],
   "source": [
    "# Use the best estimator to predict on test set\n",
    "best_clf = grid_search.best_estimator_\n",
    "X_test_segments = df_test_segments.drop(columns=['filename', 'length', 'label'])\n",
    "y_test_segments = df_test_segments['label']\n",
    "\n",
    "y_pred = best_clf.predict(X_test_segments)\n",
    "\n",
    "# Define majority vote function\n",
    "def majority_vote(predictions):\n",
    "    return predictions.mode().iloc[0]\n",
    "\n",
    "df_test_segments['predicted_label'] = y_pred\n",
    "\n",
    "df_test_segments['song'] = df_test_segments['filename'].str.extract(r'(.*\\.\\d{5})')[0] + '.wav'\n",
    "song_predictions = df_test_segments.groupby('song')['predicted_label'].apply(majority_vote)\n",
    "\n",
    "song_true_labels = X_test_songs.set_index('filename').loc[song_predictions.index, 'label']\n",
    "song_pred_labels = song_predictions\n",
    "\n",
    "# Print classification report and accuracy score\n",
    "print(\"Classification Report:\")\n",
    "print(classification_report(song_true_labels, song_pred_labels))\n",
    "\n",
    "print(\"Accuracy Score:\")\n",
    "print(accuracy_score(song_true_labels, song_pred_labels))"
   ]
  }
 ],
 "metadata": {
  "kernelspec": {
   "display_name": "myenv",
   "language": "python",
   "name": "myenv"
  },
  "language_info": {
   "codemirror_mode": {
    "name": "ipython",
    "version": 3
   },
   "file_extension": ".py",
   "mimetype": "text/x-python",
   "name": "python",
   "nbconvert_exporter": "python",
   "pygments_lexer": "ipython3",
   "version": "3.10.14"
  }
 },
 "nbformat": 4,
 "nbformat_minor": 2
}
